{
 "cells": [
  {
   "cell_type": "markdown",
   "metadata": {},
   "source": [
    "# NGC\n",
    "@Radenaz Niko A. Hakam\n",
    "ftds rmt 38\n",
    "phase 0 week 1 day 3"
   ]
  },
  {
   "cell_type": "markdown",
   "metadata": {},
   "source": [
    "## -- Task 01"
   ]
  },
  {
   "cell_type": "markdown",
   "metadata": {},
   "source": [
    "Task #1 - Number of WordCreate a function that count the number of word in a sentence.\n",
    "Instruction:\n",
    "-   1.Create function called `number_of_word`.\n",
    "-   2.This function takes 1 input, `sentence`.\n",
    "-   3.Inside this function, you can utilize `.split()` method to split the sentence into list of word(s).\n",
    "-   4.Also, `len()` function to count the element inside a list.\n",
    "-   5.Return the number of word from the sentence.\n",
    "\n",
    "Example:\n",
    "-   Input: number_of_word(sentence = ’Hello World!’) Output: 2\n",
    "-   Input: number_of_word(sentence = ’Once Upon a Time in a faraway land’) Output: 8\n"
   ]
  },
  {
   "cell_type": "code",
   "execution_count": 2,
   "metadata": {},
   "outputs": [
    {
     "name": "stdout",
     "output_type": "stream",
     "text": [
      "2\n",
      "8\n"
     ]
    }
   ],
   "source": [
    "# in_sent = input(\"Make a short sentence \\n :\")\n",
    "\n",
    "def number_of_word(sentence):\n",
    "    splitted = sentence.split()\n",
    "    length = len(splitted)\n",
    "    return length\n",
    "\n",
    "# first_task = number_of_word(in_sent)\n",
    "# print(first_task)\n",
    "# print(\"hello ayo\".split())\n",
    "\n",
    "first_ex = number_of_word(\"hello world\")\n",
    "second_ex = number_of_word(\"Once Upon a Time in a farway land\")\n",
    "\n",
    "print(first_ex)\n",
    "print(second_ex)"
   ]
  },
  {
   "cell_type": "markdown",
   "metadata": {},
   "source": [
    "# -- Task 02"
   ]
  },
  {
   "cell_type": "markdown",
   "metadata": {},
   "source": [
    "Create a function that will get list of number(s) from a certain range that multiples of given number.\n",
    "Instruction:\n",
    "- 1.Create function called `find_multiples`.\n",
    "- 2.This function takes \n",
    "- 3 input: `start_range`, `end_range`, and `multiple`.\n",
    "- 3.From every number within the given range, check if that number is the mutliples of `multiple`.\n",
    "- 4.Return list of the possible multiple number(s).\n",
    "\n",
    "Example:\n",
    "-   Input: find_multiple(start_range= 1, end_range= 20, multiple= 5) -Output: [5, 10, 15, 20]\n",
    "-   Input: find_multiple(start_range= 1, end_range= 50, multiple= 10) -Output: [10, 20, 30, 40, 50]"
   ]
  },
  {
   "cell_type": "code",
   "execution_count": 130,
   "metadata": {},
   "outputs": [
    {
     "name": "stdout",
     "output_type": "stream",
     "text": [
      "[5, 10, 15, 20]\n",
      "[10, 20, 30, 40, 50]\n"
     ]
    }
   ],
   "source": [
    "def find_multiple(start_range, end_range, multiple):\n",
    "    '''\n",
    "    Takes in arguments and iterate through from x, end in y, step z.\n",
    "    Dish out list which starts at (number divisible by the third arg.).\n",
    "    ---------------------------\n",
    "    star_range, end_range, multiple\n",
    "    \n",
    "    '''\n",
    "    x_range = list(range(start_range, end_range + 1))\n",
    "    \n",
    "    result_list = []\n",
    "    \n",
    "    for n in x_range:\n",
    "        if n % multiple != 0:\n",
    "            continue\n",
    "        else:\n",
    "            result_list.append(n)\n",
    "        \n",
    "    return result_list\n",
    "\n",
    "\n",
    "\n",
    "coba1 = find_multiple(start_range= 1, end_range= 20, multiple= 5)\n",
    "coba2 = find_multiple(start_range= 10, end_range= 50, multiple= 10)\n",
    "\n",
    "\n",
    "\n",
    "print(coba1)\n",
    "print(coba2)\n"
   ]
  },
  {
   "cell_type": "markdown",
   "metadata": {},
   "source": [
    "# -- Task 03"
   ]
  },
  {
   "cell_type": "markdown",
   "metadata": {},
   "source": [
    "Grade converter:\n",
    "1. Create a function called `Grade_Converter`.\n",
    "2. This function takes input: `convert_to` and n-paired of student(s) name with its respective score.\n",
    "3. Input argument for `convert_to` is either `letter_grade` or `gpa`.\n",
    "4. You can utilize **kwargs input argument to generate n-length paired of student(s) name with its respective score (Dictionary).\n",
    "5. This function will return dictionary of student’s name along with converted Letter Grade or GPA, depending on user input in `convert_to` parameter"
   ]
  },
  {
   "cell_type": "code",
   "execution_count": 3,
   "metadata": {},
   "outputs": [
    {
     "name": "stdout",
     "output_type": "stream",
     "text": [
      "{'Adam': 2.5, 'Faiz': 4}\n",
      "{'Albert': 'A', 'Dwi': 'B', 'Syahdan': 'D', 'Veronica': 'B'}\n"
     ]
    }
   ],
   "source": [
    "def grade_converter(convert_to, **studentnscore):\n",
    "    # result = {}\n",
    "    '''\n",
    "    First arg takes in either \"letter_grade\" or \"gpa\" and second kwargs are key:value pairs.\n",
    "    -------------------------------------------------------------------\n",
    "    letter_grade = \"letter_grade\" or \"gpa\"\n",
    "    \n",
    "    studentnscore = key:value pairs. Ideally name:score\n",
    "    '''\n",
    "    for student, score in studentnscore.items():\n",
    "        \n",
    "        if convert_to == \"gpa\":\n",
    "            if score >= 85:\n",
    "                studentnscore[student] = 4\n",
    "            elif 70 <= score <= 84:\n",
    "                studentnscore[student] = 3\n",
    "            elif 60 <= score <= 69:\n",
    "                studentnscore[student] = 2.5\n",
    "            elif 50 <= score <= 59:\n",
    "                studentnscore[student] = 2\n",
    "            elif 40 <= score <= 49:\n",
    "                studentnscore[student] = 1.5\n",
    "            elif 0 <= score <= 39:\n",
    "                studentnscore[student] = 1\n",
    "        \n",
    "        if convert_to == \"letter_grade\":\n",
    "            if score >= 85:\n",
    "                studentnscore[student] = \"A\"\n",
    "            elif 70 <= score <= 84:\n",
    "                studentnscore[student] = \"B\"\n",
    "            elif 60 <= score <= 69:\n",
    "                studentnscore[student] = \"C\"\n",
    "            elif 50 <= score <= 59:\n",
    "                studentnscore[student] = \"D\"\n",
    "            elif 40 <= score <= 49:\n",
    "                studentnscore[student] = \"E\"\n",
    "            elif 0 <= score <= 39:\n",
    "                studentnscore[student] = \"F\"\n",
    "        \n",
    "    return studentnscore\n",
    "\n",
    "check1 = grade_converter(convert_to='gpa', Adam=62, Faiz=91)\n",
    "check2 = grade_converter(convert_to='letter_grade', Albert=90, Dwi=82, Syahdan=58, Veronica=84)\n",
    "\n",
    "print(check1)\n",
    "print(check2)"
   ]
  },
  {
   "cell_type": "markdown",
   "metadata": {},
   "source": [
    "# -- Task 04 :\n",
    "Fibonaci Sequence"
   ]
  },
  {
   "cell_type": "code",
   "execution_count": null,
   "metadata": {},
   "outputs": [
    {
     "name": "stdout",
     "output_type": "stream",
     "text": [
      "0\n",
      "3\n",
      "55\n"
     ]
    }
   ],
   "source": [
    "# Itterative method\n",
    "\n",
    "def fibo(n):\n",
    "    '''\n",
    "    Input n to find its fibonachi number\n",
    "    ------------------------------------\n",
    "    n = index number to find its fibonachi\n",
    "    '''\n",
    "    if n == 0:\n",
    "        return 0\n",
    "    elif n == 1 or n == 2:\n",
    "        return 1\n",
    "    \n",
    "    # 0 and 1 as the initial number seq in fibonaci seq.\n",
    "    saved_feb = [0,1]\n",
    "    \n",
    "    # Fib sq number is a sum of 2 numbers before them. n is relative position so (n - 1) and (n - 2)\n",
    "    # start 2 bcs 0 and 1 is set in saved_feb\n",
    "    for n in range(2, n + 1):\n",
    "        current_fib = saved_feb[n - 1] + saved_feb[n - 2]\n",
    "        saved_feb.append(current_fib)\n",
    "    \n",
    "    # will finally return the furthest element in the list. the [n]th elem.\n",
    "    return saved_feb[n]\n",
    "        \n",
    "fibonachi1 = fibo(0)\n",
    "fibonachi2 = fibo(4)\n",
    "fibonachi3 = fibo(10)\n",
    "\n",
    "print(fibonachi1)\n",
    "print(fibonachi2)\n",
    "print(fibonachi3)"
   ]
  }
 ],
 "metadata": {
  "kernelspec": {
   "display_name": "base",
   "language": "python",
   "name": "python3"
  },
  "language_info": {
   "codemirror_mode": {
    "name": "ipython",
    "version": 3
   },
   "file_extension": ".py",
   "mimetype": "text/x-python",
   "name": "python",
   "nbconvert_exporter": "python",
   "pygments_lexer": "ipython3",
   "version": "3.11.5"
  }
 },
 "nbformat": 4,
 "nbformat_minor": 2
}
