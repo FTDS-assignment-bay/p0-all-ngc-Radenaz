{
 "cells": [
  {
   "cell_type": "markdown",
   "metadata": {},
   "source": [
    "## NGC 03\n",
    "# === Task 01"
   ]
  },
  {
   "cell_type": "markdown",
   "metadata": {},
   "source": [
    "Create a library catalog system using OOP. \n",
    "The system should allow users to add books to the catalog, search for books by title or author, and remove books from the catalog. Requirements:\n",
    "1. Each book should have a title, author, and unique identifier\n",
    "2. The system should provide the following functionality:\n",
    "    - Adding a book to the catalog.\n",
    "    - Searching for books by title or author.\n",
    "    - Removing a book from the catalog.●\n",
    "    - Displaying all books in the catalog.\n",
    "3. Do the exception handling\n"
   ]
  },
  {
   "cell_type": "code",
   "execution_count": 35,
   "metadata": {},
   "outputs": [],
   "source": [
    "class Books:\n",
    "    def __init__(self, book_id, book_title, book_author):\n",
    "        self.book_id = book_id\n",
    "        self.book_title = book_title\n",
    "        self.book_author = book_author\n",
    "        \n",
    "    def __str__(self):\n",
    "        return f\"ID : {self.book_id}, Title: {self.book_title}, Author : {self.book_author}\"\n",
    "\n",
    "class Library:\n",
    "    def __init__(self):\n",
    "        self.shelve = []\n",
    "        \n",
    "    def add_book(self, book_id, book_title, book_author):\n",
    "        create_book = Books(book_id, book_title, book_author)\n",
    "        self.shelve.append(create_book)\n",
    "    \n",
    "    def remove_book(self, id):\n",
    "        for book in self.shelve:\n",
    "            if book.book_id == id:\n",
    "                self.shelve.remove(book)\n",
    "                return book\n",
    "        return None\n",
    "    \n",
    "    def search_book_author(self, author):\n",
    "        for book in self.shelve:\n",
    "            if book.book_author == author:\n",
    "                return book\n",
    "        return None\n",
    "    \n",
    "    def search_book_title(self, title):\n",
    "        for book in self.shelve:\n",
    "            if book.book_title == title:\n",
    "                return book\n",
    "        return None\n",
    "    \n",
    "    def search_book_id(self, id):\n",
    "        for book in self.shelve:\n",
    "            if book.book_id == id:\n",
    "                return book\n",
    "        return None\n",
    "    \n",
    "    def display_books(self):\n",
    "        if self.shelve == []:\n",
    "            print(\"===== There's currently no book in this shelve!\".upper())\n",
    "            \n",
    "        else:\n",
    "            print(\"===== Books  :   \")\n",
    "            numbering = 0\n",
    "            for b in self.shelve:\n",
    "                numbering += 1\n",
    "                print(f\"{numbering}. ID : {b.book_id}, {b.book_title}, by {b.book_author}\")\n",
    "    \n",
    "    def run_it(self):\n",
    "        switch = True\n",
    "        while switch:\n",
    "            print(\":: Library Menu ::\")\n",
    "            print(\"1. Add a Book\")\n",
    "            print(\"2. Remove a Book\")\n",
    "            print(\"3. Search Book\")\n",
    "            print(f\"4. Display Books. Current Books: [{len(self.shelve)}]\")\n",
    "            print(\"5. Exit Library\")\n",
    "            \n",
    "            user_input = input(\"==== Input menu number (1-5):    \")\n",
    "            \n",
    "            if user_input == \"1\":\n",
    "                input_id = input(\"Input the book's ID           :   \")\n",
    "                input_title = input(\"Input the book's title     :   \")\n",
    "                input_author = input(\"Input the book's author   :   \")\n",
    "                \n",
    "                self.add_book(input_id, input_title, input_author)\n",
    "                print(f\"- Book added to the shelve! \\n --> ID : [{input_id}], [{input_title}], by [{input_author}]\")\n",
    "            \n",
    "            elif user_input == \"2\":\n",
    "                input_id = input(\"Remove a book. By ID  :\")\n",
    "                book = self.remove_book(input_id)\n",
    "                \n",
    "                if book:\n",
    "                    print(f\"=== Book : [{book} has been removed from the shelve\")                   \n",
    "                    \n",
    "                else:\n",
    "                    print(f\"No book with ID [{input_id}] found\")\n",
    "            \n",
    "            elif user_input == \"3\":\n",
    "                print(\"     Search by.....? :     \")\n",
    "                print(\"         1. By ID\")\n",
    "                print(\"         2. By Title\")\n",
    "                print(\"         3. By Author\")\n",
    "                \n",
    "                input_search = input(\"Input 1, 2, or 3  :   \")\n",
    "                if input_search == \"1\":\n",
    "                    input_id = input(\"Enter the book's ID you want to search :  \")\n",
    "                    book = self.search_book_id(input_id)\n",
    "                    if book:\n",
    "                        print(f\"Found book : {book}\")\n",
    "                    else:\n",
    "                        print(f\"No book with ID [{input_id}] found\")\n",
    "                    \n",
    "                    \n",
    "                elif input_search == \"2\":\n",
    "                    input_title = input(\"Enter the book's TITLE you want to search :  \") \n",
    "                    book = self.search_book_id(input_title)\n",
    "                    if book:\n",
    "                        print(f\"Found book : {book}\")\n",
    "                    else:\n",
    "                        print(f\"No book with ID [{input_title}] found\")\n",
    "                    \n",
    "                    \n",
    "                elif input_search == \"3\":\n",
    "                    input_author = input(\"Enter the book's AUTHOR you want to search :  \")\n",
    "                    book = self.search_book_id(input_author)\n",
    "                    if book:\n",
    "                        print(f\"Found book : {book}\")\n",
    "                    else:\n",
    "                        print(f\"No book with ID [{input_author}] found\")\n",
    "                    \n",
    "                \n",
    "                else:\n",
    "                    print(\"Please input a number 1, 2, or 3!\")\n",
    "                    print(\"Back to the MENU\".upper())\n",
    "            \n",
    "            elif user_input == \"4\":\n",
    "                self.display_books()\n",
    "            \n",
    "            elif user_input == \"5\":\n",
    "                print(\"Ending the program!\")\n",
    "                switch = False\n",
    "            \n",
    "            else:\n",
    "                print(\"==== Please input number between 1, 2, 3, 4, or 5 to select a menu!\".upper())\n",
    "            \n",
    "            "
   ]
  },
  {
   "cell_type": "code",
   "execution_count": 28,
   "metadata": {},
   "outputs": [
    {
     "name": "stdout",
     "output_type": "stream",
     "text": [
      ":: Library Menu ::\n",
      "1. Add a Book\n",
      "2. Remove a Book\n",
      "3. Search Book\n",
      "4. Display Books. Current Books: [0]\n",
      "5. Exit Library\n",
      "- Book added to the shelve! \n",
      " --> ID : [111], [Appa], by [Aang]\n",
      ":: Library Menu ::\n",
      "1. Add a Book\n",
      "2. Remove a Book\n",
      "3. Search Book\n",
      "4. Display Books. Current Books: [1]\n",
      "5. Exit Library\n",
      "     Search by.....? :     \n",
      "         1. By ID\n",
      "         2. By Title\n",
      "         3. By Author\n",
      "Found book : ID : 111, Title: Appa, Author : Aang\n",
      ":: Library Menu ::\n",
      "1. Add a Book\n",
      "2. Remove a Book\n",
      "3. Search Book\n",
      "4. Display Books. Current Books: [1]\n",
      "5. Exit Library\n",
      "Ending the program!\n"
     ]
    }
   ],
   "source": [
    "if __name__ == \"__main__\":\n",
    "    shelve_001 = Library()\n",
    "    shelve_001.run_it()"
   ]
  },
  {
   "cell_type": "markdown",
   "metadata": {},
   "source": [
    "Manual test:"
   ]
  },
  {
   "cell_type": "markdown",
   "metadata": {},
   "source": [
    "    - add_books() method\n",
    "    - display_books() method"
   ]
  },
  {
   "cell_type": "code",
   "execution_count": 36,
   "metadata": {},
   "outputs": [
    {
     "name": "stdout",
     "output_type": "stream",
     "text": [
      "===== Books  :   \n",
      "1. ID : 111, aeromancy for dummies, by Aang\n",
      "2. ID : 222, geomancy for dummies, by Toph\n",
      "3. ID : 333, hydromancy for dummies, by Katara\n"
     ]
    }
   ],
   "source": [
    "shelve_001 = Library()\n",
    "shelve_001.add_book(111, \"aeromancy for dummies\", \"Aang\")\n",
    "shelve_001.add_book(222, \"geomancy for dummies\", \"Toph\")\n",
    "shelve_001.add_book(333, \"hydromancy for dummies\", \"Katara\")\n",
    "\n",
    "shelve_001.display_books()"
   ]
  },
  {
   "cell_type": "markdown",
   "metadata": {},
   "source": [
    "- remove_book() method, found book\n",
    "- remove_book() method, with no book found "
   ]
  },
  {
   "cell_type": "code",
   "execution_count": 37,
   "metadata": {},
   "outputs": [
    {
     "name": "stdout",
     "output_type": "stream",
     "text": [
      "===== Books  :   \n",
      "1. ID : 111, aeromancy for dummies, by Aang\n",
      "2. ID : 222, geomancy for dummies, by Toph\n",
      "3. ID : 333, hydromancy for dummies, by Katara\n",
      "\n",
      "\n",
      "===== Books  :   \n",
      "1. ID : 222, geomancy for dummies, by Toph\n",
      "2. ID : 333, hydromancy for dummies, by Katara\n",
      "\n"
     ]
    }
   ],
   "source": [
    "shelve_001.display_books()\n",
    "print(\"\")\n",
    "shelve_001.remove_book(111)\n",
    "print(\"\")\n",
    "shelve_001.display_books()\n",
    "print(\"\")\n",
    "\n",
    "# Expected result : None. Since the prints after book removal is in different method\n",
    "# Running in the if __name__ == \"__main__\": or from terminal should show as intended.\n",
    "shelve_001.remove_book(111)\n",
    "\n"
   ]
  },
  {
   "cell_type": "markdown",
   "metadata": {},
   "source": [
    "- Search book by id\n",
    "- search by title\n",
    "- seach by author"
   ]
  },
  {
   "cell_type": "code",
   "execution_count": 42,
   "metadata": {},
   "outputs": [
    {
     "data": {
      "text/plain": [
       "<__main__.Books at 0x24fce443ee0>"
      ]
     },
     "execution_count": 42,
     "metadata": {},
     "output_type": "execute_result"
    }
   ],
   "source": [
    "# Returns memory location. But returns printed as intended in terminal.\n",
    "shelve_001.search_book_id(222)"
   ]
  }
 ],
 "metadata": {
  "kernelspec": {
   "display_name": "ftds",
   "language": "python",
   "name": "python3"
  },
  "language_info": {
   "codemirror_mode": {
    "name": "ipython",
    "version": 3
   },
   "file_extension": ".py",
   "mimetype": "text/x-python",
   "name": "python",
   "nbconvert_exporter": "python",
   "pygments_lexer": "ipython3",
   "version": "3.9.20"
  }
 },
 "nbformat": 4,
 "nbformat_minor": 2
}
