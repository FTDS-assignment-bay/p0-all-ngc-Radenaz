{
 "cells": [
  {
   "cell_type": "markdown",
   "metadata": {},
   "source": [
    "# NGC 5\n",
    "- by @Radenaz\n",
    "- Niko A. Hakam"
   ]
  },
  {
   "cell_type": "markdown",
   "metadata": {},
   "source": [
    "```sql\n",
    "CREATE TABLE customers (\n",
    "    customer_id SERIAL PRIMARY KEY,\n",
    "    customer_name VARCHAR(50),\n",
    "    city VARCHAR(50)\n",
    ");\n",
    "\n",
    "CREATE TABLE orders (\n",
    "    order_id SERIAL PRIMARY KEY,\n",
    "    customer_id INT,\n",
    "\torder_date DATE,\n",
    "    total_amount DECIMAL(100, 2),\n",
    "\tFOREIGN KEY (customer_id) REFERENCES customers(customer_id)\n",
    ");\n",
    "\n",
    "\n",
    "SELECT * FROM customers;\n",
    "SELECT * FROM orders;\n",
    "\n",
    "INSERT INTO customers (customer_id, customer_name, city) \n",
    "VALUES\n",
    "\t(1, 'John Doe', 'New York'),\n",
    "\t(2, 'Jane Smith', 'Los Angeles'),\n",
    "\t(3, 'David Johnson', 'Chicago');\n",
    "\n",
    "\n",
    "INSERT INTO orders (order_id, customer_id, order_date, total_amount)\n",
    "VALUES\n",
    "\t(1, 1, '2022-01-10', 100),\n",
    "\t(2, 1, '2022-02-15', 150),\n",
    "\t(3, 2, '2022-03-20', 200),\n",
    "\t(4, 3, '2022-04-25', 50);\n",
    "\n",
    "\n",
    "SELECT customers.customer_name, COUNT(orders.order_id) AS total_orders\n",
    "FROM customers\n",
    "JOIN orders on customers.customer_id = orders.customer_id\n",
    "GROUP BY customers.customer_name;\n",
    "```"
   ]
  },
  {
   "cell_type": "markdown",
   "metadata": {},
   "source": [
    "![alt text](basic_data_wrang_ss.png)"
   ]
  }
 ],
 "metadata": {
  "language_info": {
   "name": "python"
  }
 },
 "nbformat": 4,
 "nbformat_minor": 2
}
